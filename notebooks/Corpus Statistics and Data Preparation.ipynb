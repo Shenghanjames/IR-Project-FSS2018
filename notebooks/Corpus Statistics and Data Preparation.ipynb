{
 "cells": [
  {
   "cell_type": "code",
   "execution_count": 1,
   "metadata": {
    "collapsed": true
   },
   "outputs": [],
   "source": [
    "import pandas as pd\n",
    "import re\n",
    "import collections"
   ]
  },
  {
   "cell_type": "markdown",
   "metadata": {},
   "source": [
    "## Idea: Profile the data\n",
    "- Total documents\n",
    "- Total word occurences\n",
    "- Vocab size\n",
    "- Words occuring > 1000 times\n",
    "- Words occuring once\n",
    "\n",
    "#1. Lower case\n",
    "#2. Tokenize\n",
    "#3. Remove stop words\n",
    "#4. Stemming"
   ]
  },
  {
   "cell_type": "code",
   "execution_count": 2,
   "metadata": {
    "collapsed": true
   },
   "outputs": [],
   "source": [
    "doc_dump_file = open('doc_dump.txt', \"r\", encoding=\"utf8\")\n",
    "nfdump_file= open('nfdump.txt', \"r\", encoding=\"utf8\")"
   ]
  },
  {
   "cell_type": "code",
   "execution_count": 3,
   "metadata": {
    "collapsed": true
   },
   "outputs": [],
   "source": [
    "#ref.: https://stackoverflow.com/questions/29312508/how-do-i-remove-duplicate-words-from-a-list-in-python-without-using-sets\n",
    "\n",
    "def get_unique_tokens(file):\n",
    "    input_file = open(file, \"r\", encoding=\"utf8\")\n",
    "    allWords = list()      #create new list\n",
    "    vocab_tokens = list()\n",
    "\n",
    "    for line in input_file:\n",
    "        line.rstrip()   #strip white space\n",
    "        words = line.split()   #split lines of words and make list\n",
    "        allWords.extend(words)   #make the list from 4 lists to 1 list\n",
    "\n",
    "    for word in allWords:   #for each word in line.split()\n",
    "        word = re.sub(r'\\b[^\\W\\d_]+\\b','',word)\n",
    "        word=word.lower().strip()\n",
    "        if not word.isdigit():\n",
    "            if word not in vocab_tokens:    #if a word isn't in line.split            \n",
    "                vocab_tokens.append(word)   #append it.\n",
    "    \n",
    "    return vocab_tokens"
   ]
  },
  {
   "cell_type": "code",
   "execution_count": 4,
   "metadata": {
    "collapsed": true
   },
   "outputs": [],
   "source": [
    "def print_corpus_statistics(file, most_common):\n",
    "    tokens_occuring_once = list()\n",
    "    tokens_occuring_1000_plus = list()\n",
    "    #ref. https://stackoverflow.com/questions/25985299/create-python-dictionary-from-text-file-and-retrieve-count-of-each-word\n",
    "    with open(file) as f:\n",
    "        c = collections.Counter(\n",
    "            word.lower()\n",
    "            for line in f\n",
    "                for word in re.findall(r'\\b[^\\W\\d_]+\\b', line))\n",
    "    collection_len=len(c)\n",
    "    \n",
    "    vocab_size=len(get_unique_tokens(file))\n",
    "    \n",
    "    print (\"Total word occurences: %d\"%sum(c.values()))\n",
    "    print (\"Vocabulary size: %d\"%vocab_size)\n",
    "\n",
    "    print ('Most common words:')\n",
    "    for letter, count in c.most_common(most_common):\n",
    "        print ('%s: %7d' % (letter, count))\n",
    "        \n",
    "    for letter, count in c.most_common(collection_len):\n",
    "        if count > 1000:\n",
    "            tokens_occuring_1000_plus.append(letter)\n",
    "        if count == 1:\n",
    "            tokens_occuring_once.append(letter)\n",
    "        \n",
    "    print (\"There are %d words occuring > 1000 times\"%len(tokens_occuring_1000_plus))\n",
    "    print (\"There are %d words occuring once\"%len(tokens_occuring_once))"
   ]
  },
  {
   "cell_type": "code",
   "execution_count": 5,
   "metadata": {},
   "outputs": [
    {
     "name": "stdout",
     "output_type": "stream",
     "text": [
      "Total word occurences: 1291434\n",
      "Vocabulary size: 24317\n",
      "Most common words:\n",
      "of:   52806\n",
      "the:   52621\n",
      "and:   51085\n",
      "in:   34773\n",
      "to:   23497\n",
      "a:   19891\n",
      "with:   14393\n",
      "for:   12766\n",
      "were:   10567\n",
      "was:    9960\n",
      "There are 164 words occuring > 1000 times\n",
      "There are 5474 words occuring once\n"
     ]
    }
   ],
   "source": [
    "print_corpus_statistics('doc_dump.txt',10)"
   ]
  },
  {
   "cell_type": "code",
   "execution_count": 6,
   "metadata": {},
   "outputs": [
    {
     "name": "stdout",
     "output_type": "stream",
     "text": [
      "Total word occurences: 6047074\n",
      "Vocabulary size: 33872\n",
      "Most common words:\n",
      "the:  215366\n",
      "and:  140541\n",
      "to:  136859\n",
      "of:  129305\n",
      "a:  109183\n",
      "i:  107960\n",
      "http:   91192\n",
      "in:   88789\n",
      "is:   82461\n",
      "org:   79254\n",
      "There are 727 words occuring > 1000 times\n",
      "There are 30710 words occuring once\n"
     ]
    }
   ],
   "source": [
    "print_corpus_statistics('nfdump.txt',10)"
   ]
  },
  {
   "cell_type": "markdown",
   "metadata": {},
   "source": [
    "# Preprocess all docs and queries"
   ]
  },
  {
   "cell_type": "code",
   "execution_count": 7,
   "metadata": {
    "collapsed": true
   },
   "outputs": [],
   "source": [
    "stop_words=set(line.strip() for line in open('stopwords.large'))\n"
   ]
  },
  {
   "cell_type": "code",
   "execution_count": 9,
   "metadata": {
    "collapsed": true
   },
   "outputs": [],
   "source": [
    "def remove_digits(line):\n",
    "    words_to_keep=[]\n",
    "    words=line.split()\n",
    "    for word in words:\n",
    "        if not word.isdigit():\n",
    "            words_to_keep.append(word)\n",
    "    return ' '.join(words_to_keep)"
   ]
  },
  {
   "cell_type": "code",
   "execution_count": 10,
   "metadata": {
    "collapsed": true
   },
   "outputs": [],
   "source": [
    "#preprocess_line(test)"
   ]
  },
  {
   "cell_type": "code",
   "execution_count": 11,
   "metadata": {
    "collapsed": true
   },
   "outputs": [],
   "source": [
    "def clean_url(text):\n",
    "    text = re.sub(r'^//www?.*/([\\d]{8})', '', text)\n",
    "    #case http://www.ncbi.nlm.nih.gov/pubmed/15072585\n",
    "    text = re.sub(r'http://www.ncbi?(.{0,20})([\\d]{8})', '', text)\n",
    "    #\n",
    "    text = re.sub(r'^http?:\\/\\/.*[\\r\\n]*/', '', text)\n",
    "    #case http://nutritionfacts.org/topics/heart-health/\n",
    "    text = re.sub(r'(http:)?//nutritionfacts.org(.{0,20})(/{1})', '', text)\n",
    "\n",
    "    return text"
   ]
  },
  {
   "cell_type": "code",
   "execution_count": 12,
   "metadata": {
    "collapsed": true
   },
   "outputs": [],
   "source": [
    "def preprocess_line(line):\n",
    "    #print(line)\n",
    "    line=clean_url(line)\n",
    "    words=line.split()\n",
    "    words_to_keep=[]\n",
    "    for word in words:\n",
    "        word=clean_url(word)\n",
    "        word = re.sub(r'[^\\w\\s]',' ',word)\n",
    "        word=word.lower().strip()\n",
    "        if word not in stop_words:\n",
    "                words_to_keep.append(word)\n",
    "        new_line=' '.join(words_to_keep)\n",
    "    return remove_digits(new_line)\n",
    "    "
   ]
  },
  {
   "cell_type": "code",
   "execution_count": 13,
   "metadata": {
    "collapsed": true
   },
   "outputs": [],
   "source": [
    "def parse_docs(lines, keyword):\n",
    "    data=[]    \n",
    "    for line in lines:\n",
    "        docid, line = line.split('http:', 1)\n",
    "        \n",
    "        if keyword in docid:\n",
    "            docid=docid.replace('\\t', '')\n",
    "            line=preprocess_line(line)\n",
    "            data.append((docid,line))\n",
    "    return data          "
   ]
  },
  {
   "cell_type": "code",
   "execution_count": 14,
   "metadata": {
    "collapsed": true
   },
   "outputs": [],
   "source": [
    "def get_preprocessed_docs(file, keyword):\n",
    "    data = parse_docs(file.readlines(), keyword)\n",
    "    return data"
   ]
  },
  {
   "cell_type": "code",
   "execution_count": 15,
   "metadata": {
    "collapsed": true
   },
   "outputs": [],
   "source": [
    "data_docs=get_preprocessed_docs(doc_dump_file, 'MED')"
   ]
  },
  {
   "cell_type": "code",
   "execution_count": 16,
   "metadata": {},
   "outputs": [
    {
     "data": {
      "text/plain": [
       "5371"
      ]
     },
     "execution_count": 16,
     "metadata": {},
     "output_type": "execute_result"
    }
   ],
   "source": [
    "len(data_docs)"
   ]
  },
  {
   "cell_type": "code",
   "execution_count": 28,
   "metadata": {},
   "outputs": [
    {
     "data": {
      "text/plain": [
       "('MED-1',\n",
       " 'birth weight head circumference prenatal exposure acrylamide maternal diet european prospective mother child study newgeneris abstract background acrylamide common dietary exposure crosses human placenta classified probable human carcinogen developmental toxicity observed rodents objectives examined associations prenatal exposure acrylamide birth outcomes prospective european mother child study methods hemoglobin hb adducts acrylamide metabolite glycidamide measured cord blood reflecting cumulated exposure months pregnancy singleton pregnant women recruited denmark england greece norway spain maternal diet estimated food frequency questionnaires results acrylamide glycidamide hb adducts statistically significant reduction birth weight head circumference estimated difference birth weight infants highest versus lowest quartile acrylamide hb adduct levels adjusting gestational age country ci difference head circumference cm ci findings similar infants nonsmokers consistent countries remained adjustment factors reduced birth weight maternal consumption foods rich acrylamide fried potatoes cord blood acrylamide adduct levels reduced birth weight conclusions dietary exposure acrylamide reduced birth weight head circumference consumption specific foods pregnancy higher acrylamide exposure utero confirmed findings suggest dietary intake acrylamide reduced pregnant women')"
      ]
     },
     "execution_count": 28,
     "metadata": {},
     "output_type": "execute_result"
    }
   ],
   "source": [
    "data_docs[0]"
   ]
  },
  {
   "cell_type": "code",
   "execution_count": 17,
   "metadata": {
    "collapsed": true
   },
   "outputs": [],
   "source": [
    "data_queries=get_preprocessed_docs(nfdump_file, 'PLAIN')"
   ]
  },
  {
   "cell_type": "code",
   "execution_count": 18,
   "metadata": {},
   "outputs": [
    {
     "data": {
      "text/plain": [
       "3437"
      ]
     },
     "execution_count": 18,
     "metadata": {},
     "output_type": "execute_result"
    }
   ],
   "source": [
    "len(data_queries)"
   ]
  },
  {
   "cell_type": "markdown",
   "metadata": {},
   "source": [
    "# Split according to ids"
   ]
  },
  {
   "cell_type": "markdown",
   "metadata": {},
   "source": [
    "## Split docs"
   ]
  },
  {
   "cell_type": "code",
   "execution_count": 19,
   "metadata": {
    "collapsed": true
   },
   "outputs": [],
   "source": [
    "train_ids=pd.read_csv('train.docs.ids', header=None)\n",
    "train_ids.columns=['id']"
   ]
  },
  {
   "cell_type": "code",
   "execution_count": 20,
   "metadata": {
    "collapsed": true
   },
   "outputs": [],
   "source": [
    "train_ids_list = train_ids['id'].tolist()"
   ]
  },
  {
   "cell_type": "code",
   "execution_count": 21,
   "metadata": {
    "collapsed": true
   },
   "outputs": [],
   "source": [
    "test_ids=pd.read_csv('test.docs.ids', header=None)\n",
    "test_ids.columns=['id']"
   ]
  },
  {
   "cell_type": "code",
   "execution_count": 22,
   "metadata": {
    "collapsed": true
   },
   "outputs": [],
   "source": [
    "test_ids_list = test_ids['id'].tolist()"
   ]
  },
  {
   "cell_type": "code",
   "execution_count": 23,
   "metadata": {
    "collapsed": true
   },
   "outputs": [],
   "source": [
    "dev_ids=pd.read_csv('dev.docs.ids', header=None)\n",
    "dev_ids.columns=['id']"
   ]
  },
  {
   "cell_type": "code",
   "execution_count": 24,
   "metadata": {
    "collapsed": true
   },
   "outputs": [],
   "source": [
    "dev_ids_list = dev_ids['id'].tolist()"
   ]
  },
  {
   "cell_type": "code",
   "execution_count": 37,
   "metadata": {
    "collapsed": true
   },
   "outputs": [],
   "source": [
    "def get_split(docs_file, train_ids_list, test_ids_list, dev_ids_list):\n",
    "    train_docs=[]\n",
    "    test_docs=[]\n",
    "    dev_docs=[]\n",
    "    \n",
    "    for doc in docs_file:\n",
    "        doc_id, text= doc\n",
    "        if doc_id in train_ids_list:\n",
    "            train_docs.append((doc_id, text))\n",
    "        if doc_id in test_ids_list:\n",
    "            test_docs.append((doc_id, text))\n",
    "        if doc_id in dev_ids_list:\n",
    "            dev_docs.append((doc_id, text))\n",
    "    return train_docs, test_docs, dev_docs"
   ]
  },
  {
   "cell_type": "code",
   "execution_count": 26,
   "metadata": {
    "collapsed": true,
    "scrolled": false
   },
   "outputs": [],
   "source": [
    "train_docs, test_docs, dev_docs= get_split(data_docs, train_ids_list, test_ids_list, dev_ids_list)"
   ]
  },
  {
   "cell_type": "code",
   "execution_count": 29,
   "metadata": {},
   "outputs": [
    {
     "data": {
      "text/plain": [
       "3612"
      ]
     },
     "execution_count": 29,
     "metadata": {},
     "output_type": "execute_result"
    }
   ],
   "source": [
    "len(train_docs)"
   ]
  },
  {
   "cell_type": "code",
   "execution_count": 30,
   "metadata": {},
   "outputs": [
    {
     "data": {
      "text/plain": [
       "3162"
      ]
     },
     "execution_count": 30,
     "metadata": {},
     "output_type": "execute_result"
    }
   ],
   "source": [
    "len(test_docs)"
   ]
  },
  {
   "cell_type": "code",
   "execution_count": 31,
   "metadata": {},
   "outputs": [
    {
     "data": {
      "text/plain": [
       "3193"
      ]
     },
     "execution_count": 31,
     "metadata": {},
     "output_type": "execute_result"
    }
   ],
   "source": [
    "len(dev_docs)"
   ]
  },
  {
   "cell_type": "markdown",
   "metadata": {},
   "source": [
    "## Split queries"
   ]
  },
  {
   "cell_type": "code",
   "execution_count": 34,
   "metadata": {
    "collapsed": true
   },
   "outputs": [],
   "source": [
    "train_ids_q=pd.read_csv('train.queries.ids', header=None)\n",
    "train_ids_q.columns=['id']\n",
    "train_ids_list_q = train_ids_q['id'].tolist()"
   ]
  },
  {
   "cell_type": "code",
   "execution_count": 35,
   "metadata": {
    "collapsed": true
   },
   "outputs": [],
   "source": [
    "test_ids_q=pd.read_csv('test.queries.ids', header=None)\n",
    "test_ids_q.columns=['id']\n",
    "test_ids_list_q = test_ids_q['id'].tolist()"
   ]
  },
  {
   "cell_type": "code",
   "execution_count": 36,
   "metadata": {
    "collapsed": true
   },
   "outputs": [],
   "source": [
    "dev_ids_q=pd.read_csv('dev.queries.ids', header=None)\n",
    "dev_ids_q.columns=['id']\n",
    "dev_ids_list_q = dev_ids_q['id'].tolist()"
   ]
  },
  {
   "cell_type": "code",
   "execution_count": 38,
   "metadata": {
    "collapsed": true
   },
   "outputs": [],
   "source": [
    "train_queries, test_queries, dev_queries= get_split(data_queries, train_ids_list_q, test_ids_list_q, dev_ids_list_q)"
   ]
  },
  {
   "cell_type": "code",
   "execution_count": 41,
   "metadata": {},
   "outputs": [
    {
     "data": {
      "text/plain": [
       "2594"
      ]
     },
     "execution_count": 41,
     "metadata": {},
     "output_type": "execute_result"
    }
   ],
   "source": [
    "len(train_queries)"
   ]
  },
  {
   "cell_type": "code",
   "execution_count": 45,
   "metadata": {},
   "outputs": [
    {
     "data": {
      "text/plain": [
       "('PLAIN-3',\n",
       " 'breast cancer cells feed on cholesterol breast cancer cells feed cholesterol american women diagnosed breast cancer lifetime number compounds plant foods protect breast cancer variety mechanisms i ve talked benefits broccoli flaxseeds soy foods breast cancer survival vegetable flaxseeds breast cancer prevention breast cancer survival soy recent german study reported researchers found sunflower pumpkin seeds reduced breast cancer risk initially chalked association lignans seeds breast cancer survival lignan intake lignan lead didn t pan it s phytosterols found concentrated seeds optimal phytosterol source evidence phytosterols anticancer nutrients play role reducing breast cancer risk thought phytosterols lowered cholesterol phytosterols lower cholesterol cancer cholesterol increasing evidence demonstrates role cholesterol play development progression breast cancer cancer feeds cholesterol transformed cells ldl so called bad cholesterol it s capable stimulating growth human breast cancer cells petri dish ability accumulate fat cholesterol enable cancer cells advantage people eating high fat high cholesterol diets partially explain benefit low fat diet lowering human breast cancer recurrence data mixed largest study date highlighted video cholesterol feeds breast cancer cells found increased breast cancer risk women total cholesterol compared women cholesterol researchers rule cholesterol raising foods that s increasing breast cancer risk tumors suck cholesterol ldl considered vehicle delivering antitumor drugs cancer cells cancer feeds cholesterol stuff chemo trojan horse poison pill uptake ldl tumors people s cholesterol levels drop low cancer the tumor eating fact patient survival lowest cholesterol uptake highest high ldl receptor content breast cancer tissue poor prognosis suggesting breast tumors rich ldl receptors grow rapidly body we ve decades study published 80s american women breast cancer cholesterol increases breast cancer risk cholesterol lowering drugs statin cholesterol drugs invasive breast cancer videos broccoli soy s protective effects breast cancer didn t mention include eat fresh stalks celery mouth tingly numb included comments caused chemical celery told eugenol celery someone told caused eugenol celery toxic people chemicals furanocoumourans well anyway longterm exposure possibly harm lining stomach gi tract irritates mouth doesn t happen time tend happen celery fresh picked vibrant organic wondering experienced reaction thanks yeah makes celery taste weird experiencing level cook soups effect gone could oxalates causing sensation darker outer stalks higher oxalate blanched stalks interestingly celery thing halt severe nausea observe uncomfortable feeling mouth eat pineapple high oxalate similar slightly sensations sun sensitivity i ve read oxalate causing buildup possibly reason time previous comment i ve read boiling reduce oxalate pineapple commonly allergenic food measurable amounts oxalates purines http www whfoods com genpage php tname foodspice dbid 34in fact pineapple s bromelain content it s considered anti inflammatory food therefore pineapples causing mouth ripped shreds feeling oxalates physical properties fiber perhaps k google search it s bromelain http www popsugar com food burning question why does pineapple irritate your mouth 3098109https www google com search q why does pineapple irritate my mouth ie utf oe utf hl en client safarileslie problem cloves cloves richest source eugenol eugenol culprit you d reaction eat cloves also celery nitrites leslie comments recent blog posts furocoumarins citrus melanoma large study this dr greger isn t time year in review can t wait study study thrown face hour watch previous year in review times absorb information yes subspec_id 484a dietary pattern characterized high fruit vegetable legume grain nut berry seed fish intakes possibly intakes dairy coffee tea chocolate alcohol excess low meat detrimentally processed foods reduced incidence cardiovascular disease rates noncardiovascular noncancer chronic inflammatory related mortality dietary cholesterol strong correlation blood levels don t women aged eats raw eggs meal daily large dietary cholesterol load important intake blood levels eggs free range factory fed chickens harmed dietary cholesterol egg yolks benefit hi ian important linked resources helps answer dietary cholesterol question post free range conventional eggs cholesterol dr cholesterol made liver eating cholesterol rich foods eggs increase cholesterol blood it it dr greger s testimony interested communication a speaker dr barnard addresses issue hand min dr greger addressing aha acc report directly dr greger follows up write up explains confusion dietary cholesterol mention links blog peek egg industry curtain dietary cholesterol appears concern this site recommends nori breast cancer prevention which seaweed is most protective against breast cancer video single sheet nori day cut risk breast cancer half thanks sharing matthew quick tip experienced user dr greger great job relating topics hyperlinking doctor s note doctor s note find related articles answer questions mentions nuts mushrooms greens seaweed reduce breast cancer risk thanks don t missed that is dr greger planning publishing data intervening diet cancer diagnosis list anti cancer foods website include nuts walnuts pecans peanuts vegetables garlic beets broccoli beans black beans lentils fruits cranberries lemons apples spices turmeric pepper rosemary ginger tea matcha white tea lemon hibiscusthe year survival rate cancer half diet rate doubled ten years individuals using selenium rich foods brazil nuts garlic prevent cancer individuals achieve similar benefit vitamins modern medical interventions percent effective results widely published widely available biological fact cholesterol steroid hormone question stating hormone esp cholesterol affects growth cancer post you re stating obvious don t stop cholesterol don t stop igf core hgh don t hgh hormone link diet interesting people pituitary gland flashed mci gamma radiation gamma knife gamma unit find production hgh selectively inhibited longer develop cancers diabetes schaub link mother hormone hgh diet i higher insulin cancer promoting hgh refined carbs i ve read people age incipient cancer s older issues minor chronic infections too colds etc probably good idea boost immune system i breast cancer event school nyc featured speaker paul stamets event packed single seat people sitting aisle things paul stamets mother diagnosed stage cancer months live oncologist recommend chemotherapy radiation cancer advanced oncologist recommend turkey tail mushroom paul stamets played audio mother calling mundane matters years diagnosis mentioned miracle stuff presentation involving deadly diseases presentation wholefoods supermarket blocks street buy turkey tail mushroom supplement wholefoods clerk handing ttm people event wanted buy taking ttm time till mention oncologist sloan kettering taking turkey tail brought booklet detailing mushrooms good event school thing left breast lot smaller breast noticeably bigger appointment oncologist surgeon called told size difference wondering heard turkey tail mushroom supposed effects breast cancer dr greger i watched talk ted fact powerful agressive drugs mushroom taxol chemootherapy herceptin kind chemo mushroom contrary mushroom dr greger video mushrooms prevention breast cancer treatment thing interested too i radiation chemotherapy mother drug addition turkey tail mushroom surprised people wholefoods attended event lining turkey tail mushroom link ted talk working fyi joseph edited comment put direct link instead hi gadea information mushrooms fda approved trial turkey tail mushrooms sounds you ve homework glad questions communicating oncologist sloan kettering i ve heard great dietitians work read research mushrooms reducing breast size suppose long additional risks taking mushrooms include diet mushrooms beta glucan fiber thought immunomodulators i started turkey tail mushroom heard paul stamets school talked careful attribute miracle cures implied repeatedly included white button mushrooms diet appointment oncologist dr elizabeth comen sloan kettering put stock paul stamets claims booklet browsed ttm anyway thank dr greger extremly informations wnat position canabis oil therapy breast cancer rests chronical diseases raw fruits raw vegetables and5 seeds diet combination raw plant diet canabis oil psychoactive supstances solution cancer diseases heart videos md s mazak beslic serbiai don t there s data cannabis s role cancer treatment symptom management part minor evidence brain tumors haven t breast cancer data oncology nutrition group academy nutrition dietetics spotlighting session marijuana medicine cancer symptom management interesting alternative treatments advance cancer research point lots raw foods diet nutrition play important role cancer prevention treatment engaging translating republishing contents nutritionfacts org portuguese shift culture faster language barriers suggestions initiative share hugs rodrigo wow incredible make site program director we ll agree languages letting know best josephhi joseph i m pleased read make website i m contact tommasina i m glad guys inspiring rodrigoforgive rodrigo jumped gun told help the site great rapidly dividing cells cancer lot cholesterol causative connection cancer cholesterol cancer cells lots water oxygen true causative connection statistical number reasons body fat breast cancer breast cancer survival breast health broccoli cancer cancer survival cholesterol fat flax seeds germany ldl cholesterol lignans low fat diets phytosterols pumpkin seeds seeds soy sunflower seeds women s health organic foods nutritionfacts org topics paleolithic diets womens health plant based diets nutritionfacts org video flaxseeds breast cancer prevention statin cholesterol drugs and invasive breast cancer cholesterol feeds breast cancer cells uprooting the leading causes of death breast cancer survival vegetable breast cancer survival and soy optimal phytosterol source more than an apple a day preventing our most common diseases how phytosterols lower cholesterol breast cancer survival and lignan intake')"
      ]
     },
     "execution_count": 45,
     "metadata": {},
     "output_type": "execute_result"
    }
   ],
   "source": [
    "train_queries[0]"
   ]
  },
  {
   "cell_type": "code",
   "execution_count": 42,
   "metadata": {},
   "outputs": [
    {
     "data": {
      "text/plain": [
       "325"
      ]
     },
     "execution_count": 42,
     "metadata": {},
     "output_type": "execute_result"
    }
   ],
   "source": [
    "len(test_queries)"
   ]
  },
  {
   "cell_type": "code",
   "execution_count": 43,
   "metadata": {},
   "outputs": [
    {
     "data": {
      "text/plain": [
       "325"
      ]
     },
     "execution_count": 43,
     "metadata": {},
     "output_type": "execute_result"
    }
   ],
   "source": [
    "len(dev_queries)"
   ]
  }
 ],
 "metadata": {
  "kernelspec": {
   "display_name": "Python 3",
   "language": "python",
   "name": "python3"
  },
  "language_info": {
   "codemirror_mode": {
    "name": "ipython",
    "version": 3
   },
   "file_extension": ".py",
   "mimetype": "text/x-python",
   "name": "python",
   "nbconvert_exporter": "python",
   "pygments_lexer": "ipython3",
   "version": "3.6.4"
  }
 },
 "nbformat": 4,
 "nbformat_minor": 2
}
